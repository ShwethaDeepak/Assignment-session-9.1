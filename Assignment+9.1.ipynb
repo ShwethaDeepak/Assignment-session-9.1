{
 "cells": [
  {
   "cell_type": "code",
   "execution_count": 13,
   "metadata": {},
   "outputs": [
    {
     "name": "stdout",
     "output_type": "stream",
     "text": [
      "Power_divergenceResult(statistic=array([ 3.32229687,  0.69814678,  0.77371078,  3.20907516]), pvalue=array([ 0.06356262,  0.38473058,  0.3610113 ,  0.0681493 ]))\n"
     ]
    }
   ],
   "source": [
    "from scipy.stats import chisquare\n",
    "value = chisquare([[60,54,46,41],[40,44,53,57]],[[50.886,49.86,50.37,49.86],[49.11,48.13,48.62,48.13]],0.05)\n",
    "print(value)\n",
    "#the sum of statistics array results to 8.006. There is a relation between an individual and the level of education that they have otained"
   ]
  },
  {
   "cell_type": "code",
   "execution_count": null,
   "metadata": {
    "collapsed": true
   },
   "outputs": [],
   "source": []
  },
  {
   "cell_type": "code",
   "execution_count": null,
   "metadata": {
    "collapsed": true
   },
   "outputs": [],
   "source": []
  }
 ],
 "metadata": {
  "kernelspec": {
   "display_name": "Python 3",
   "language": "python",
   "name": "python3"
  },
  "language_info": {
   "codemirror_mode": {
    "name": "ipython",
    "version": 3
   },
   "file_extension": ".py",
   "mimetype": "text/x-python",
   "name": "python",
   "nbconvert_exporter": "python",
   "pygments_lexer": "ipython3",
   "version": "3.6.3"
  }
 },
 "nbformat": 4,
 "nbformat_minor": 2
}
